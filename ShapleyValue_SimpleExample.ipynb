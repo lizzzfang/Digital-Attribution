{
 "cells": [
  {
   "cell_type": "markdown",
   "metadata": {},
   "source": [
    "# Shapley Values - Game Theory\n",
    "\n",
    "Reference: sage.game_theory.cooperative_game\n",
    "http://doc.sagemath.org/html/en/reference/game_theory/sage/game_theory/cooperative_game.html\n",
    "\n",
    "## Realization of a simple example\n",
    "\n",
    "### Input: (Sagecell)\n",
    "\n",
    "integer_function = {(): 0,\n",
    "                    ('A',): 10,\n",
    "                    ('B',): 10,\n",
    "                    ('C',): 10,\n",
    "                    ('A','B',): 30,\n",
    "                    ('A','C',): 40,\n",
    "                    ('B','C',): 40,\n",
    "                    ('A','B','C',): 50}\n",
    "\n",
    "integer_game = CooperativeGame(integer_function)\n",
    "\n",
    "print(integer_game)\n",
    "\n",
    "print(integer_game.shapley_value())\n",
    "\n",
    "### Output: (Sagecell)\n",
    "\n",
    "A 3 player co-operative game\n",
    "{'A': 15, 'C': 20, 'B': 15}\n",
    "\n",
    "Go to the website and paste the input above\n",
    "https://sagecell.sagemath.org/\n"
   ]
  },
  {
   "cell_type": "code",
   "execution_count": 1,
   "metadata": {},
   "outputs": [],
   "source": [
    "import pandas as pd\n",
    "import numpy as np"
   ]
  },
  {
   "cell_type": "markdown",
   "metadata": {},
   "source": [
    "#### Simulate the customer journey here  "
   ]
  },
  {
   "cell_type": "code",
   "execution_count": 11,
   "metadata": {},
   "outputs": [
    {
     "data": {
      "text/plain": [
       "{'user0': {'Path': '', 'Conversion': 0},\n",
       " 'user1': {'Path': 'A', 'Conversion': 10},\n",
       " 'user2': {'Path': 'B', 'Conversion': 10},\n",
       " 'user3': {'Path': 'C', 'Conversion': 10},\n",
       " 'user4': {'Path': 'A>B', 'Conversion': 30},\n",
       " 'user5': {'Path': 'A>C', 'Conversion': 40},\n",
       " 'user6': {'Path': 'B>C', 'Conversion': 40},\n",
       " 'user7': {'Path': 'A>B>C', 'Conversion': 50}}"
      ]
     },
     "execution_count": 11,
     "metadata": {},
     "output_type": "execute_result"
    }
   ],
   "source": [
    "# Assume a channel that makes no contribution to any coalition will get zero credit. \n",
    "customer_journey = {\n",
    "    # Unordered Shapley Value Data\n",
    "    'user0':{\n",
    "        'Path': '',\n",
    "        'Conversion': 0\n",
    "    },\n",
    "    'user1':{\n",
    "        'Path': 'A',\n",
    "        'Conversion': 10\n",
    "    },\n",
    "    'user2':{\n",
    "        'Path': 'B',\n",
    "        'Conversion': 10\n",
    "    },\n",
    "    'user3':{\n",
    "        'Path': 'C',\n",
    "        'Conversion': 10\n",
    "    },\n",
    "    'user4':{\n",
    "        'Path': 'A>B',\n",
    "        'Conversion': 30\n",
    "    },\n",
    "    'user5':{\n",
    "        'Path': 'A>C',\n",
    "        'Conversion': 40\n",
    "    },\n",
    "    'user6':{\n",
    "        'Path': 'B>C',\n",
    "        'Conversion': 40\n",
    "    },\n",
    "    'user7':{\n",
    "        'Path': 'A>B>C',\n",
    "        'Conversion': 50\n",
    "    }\n",
    "\n",
    "}\n",
    "# Show the customer journey\n",
    "customer_journey"
   ]
  },
  {
   "cell_type": "markdown",
   "metadata": {},
   "source": [
    "#### Re-construct the path and form a new dictionary"
   ]
  },
  {
   "cell_type": "code",
   "execution_count": 5,
   "metadata": {},
   "outputs": [
    {
     "data": {
      "text/plain": [
       "{('',): 0,\n",
       " ('A',): 10,\n",
       " ('B',): 10,\n",
       " ('C',): 10,\n",
       " ('A', 'B'): 30,\n",
       " ('A', 'C'): 40,\n",
       " ('B', 'C'): 40,\n",
       " ('A', 'B', 'C'): 50}"
      ]
     },
     "execution_count": 5,
     "metadata": {},
     "output_type": "execute_result"
    }
   ],
   "source": [
    "# Data Transformation\n",
    "df = pd.DataFrame(customer_journey).transpose()\n",
    "def split_fun(path):\n",
    "    return path.split('>')\n",
    "\n",
    "df['Path'] = df['Path'].apply(lambda x: tuple(split_fun(x)))\n",
    "\n",
    "# Basic Shapley Values Stored in dictionary\n",
    "base = dict(zip(df.Path, df.Conversion))\n",
    "\n",
    "base"
   ]
  },
  {
   "cell_type": "code",
   "execution_count": 12,
   "metadata": {},
   "outputs": [],
   "source": [
    "def binomial(n,k):\n",
    "    return 1 if k==0 else (0 if n==0 else binomial(n-1, k) + binomial(n-1, k-1))\n",
    "\n",
    "def powerset(x):\n",
    "    if x == []:\n",
    "        return [[]]\n",
    "    \n",
    "    s = powerset(x[1:])\n",
    "    return s + [[x[0]] + i for i in s]\n",
    "\n",
    "def v_utility(A, base):\n",
    "    '''\n",
    "    The utility function 𝜈(⋅) measures the contribution of a channel coalition\n",
    "            - A : a coalition of channels.\n",
    "            - base : A dictionnary containing the number of conversions that each subset of channels has yielded.\n",
    "    '''\n",
    "    s = powerset(A)\n",
    "    mv = 0\n",
    "    for x in s:\n",
    "        x = tuple(x)\n",
    "        if x in base:\n",
    "            mv = base[x]\n",
    "        \n",
    "    return mv"
   ]
  },
  {
   "cell_type": "code",
   "execution_count": 13,
   "metadata": {},
   "outputs": [
    {
     "data": {
      "text/plain": [
       "{(): 0,\n",
       " ('C',): 10,\n",
       " ('B',): 10,\n",
       " ('B', 'C'): 40,\n",
       " ('A',): 10,\n",
       " ('A', 'C'): 40,\n",
       " ('A', 'B'): 30,\n",
       " ('A', 'B', 'C'): 50}"
      ]
     },
     "execution_count": 13,
     "metadata": {},
     "output_type": "execute_result"
    }
   ],
   "source": [
    "# channels and utility function definition\n",
    "v_values = {}\n",
    "channels = ['A','B','C']\n",
    "for A in powerset(channels):\n",
    "    #  change List into tuple, then use it as keys.\n",
    "    v_values[tuple(A)] = v_utility(A,base)\n",
    "\n",
    "v_values"
   ]
  },
  {
   "cell_type": "markdown",
   "metadata": {},
   "source": [
    "\\begin{align}\n",
    "\\phi_i(G) = \\sum_{S \\subseteq \\Omega} \\sum_{p \\in S}\n",
    "            \\frac{1}{|S|\\binom{N}{|S|}}\n",
    "            \\bigl( v(S) - v(S \\setminus \\{p\\}) \\bigr)\n",
    "\\end{align}"
   ]
  },
  {
   "cell_type": "code",
   "execution_count": 14,
   "metadata": {},
   "outputs": [
    {
     "data": {
      "text/plain": [
       "{'A': 14.999999999999996, 'B': 14.999999999999996, 'C': 20.0}"
      ]
     },
     "execution_count": 14,
     "metadata": {},
     "output_type": "execute_result"
    }
   ],
   "source": [
    "from collections import defaultdict\n",
    "\n",
    "n = len(channels)\n",
    "shapley_values = {}\n",
    "\n",
    "for channel in channels:\n",
    "    weighted_contribution = 0\n",
    "    for coalition in powerset(channels):\n",
    "        if coalition:\n",
    "            k = len(coalition)\n",
    "            t = tuple(p for p in coalition if p != channel)\n",
    "            weight =  1 / (binomial(n, k)* k)\n",
    "            weighted_contribution += weight * (v_values[tuple(coalition)]  - v_values[t])\n",
    "            \n",
    "    shapley_values[channel] = weighted_contribution\n",
    "    \n",
    "shapley_values"
   ]
  },
  {
   "cell_type": "markdown",
   "metadata": {},
   "source": [
    "     Output should be A:15, B:15, C:20"
   ]
  }
 ],
 "metadata": {
  "kernelspec": {
   "display_name": "Python 3",
   "language": "python",
   "name": "python3"
  },
  "language_info": {
   "codemirror_mode": {
    "name": "ipython",
    "version": 3
   },
   "file_extension": ".py",
   "mimetype": "text/x-python",
   "name": "python",
   "nbconvert_exporter": "python",
   "pygments_lexer": "ipython3",
   "version": "3.7.3"
  }
 },
 "nbformat": 4,
 "nbformat_minor": 2
}
